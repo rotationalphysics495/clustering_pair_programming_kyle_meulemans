{
 "cells": [
  {
   "cell_type": "markdown",
   "id": "000b561a",
   "metadata": {},
   "source": [
    "# KMeans Clustering"
   ]
  },
  {
   "cell_type": "markdown",
   "id": "501e93a1",
   "metadata": {},
   "source": [
    " The purpose of this document is to outline how to use the kmeans algorithm as well as dive into some basic exploratory data analysis (EDA). "
   ]
  },
  {
   "cell_type": "markdown",
   "id": "cf5c9ba6",
   "metadata": {},
   "source": [
    "## Data Dictionary"
   ]
  },
  {
   "cell_type": "markdown",
   "id": "5d6d287b",
   "metadata": {},
   "source": [
    "* Private: A factor with values of No and Yes indicating private or public university\n",
    "* Apps: Number of applications received\n",
    "* Accept: The number of applications accepted\n",
    "* Enroll: The number of students enrolled\n",
    "* Top10perc: Pct of new students from the top 10% of HS class\n",
    "* Top25perc: Pct of new students from the top 25% of HS class\n",
    "* F.Undergrad: Number of fulltime undergraduate students\n",
    "* P.Undergrad: Number of parttime undergraduate students\n",
    "* Outstate: Out-of-state tuition\n",
    "* Room.Board: Room and board costs\n",
    "* Books: Estimated book costs\n",
    "* Personal: Estimated personal spending amount\n",
    "* PhD: Pct of faculty with PhD's\n",
    "* Terminal: Pct of faculty with terminal degree\n",
    "* S.F.Ratio: Student to faculty ratio\n",
    "* perc.alumni: Pct alumni who donate\n",
    "* Expend: Instructional expenditure per student\n",
    "* Grad.Rate: Graduation rate"
   ]
  },
  {
   "cell_type": "markdown",
   "id": "1599b99b",
   "metadata": {},
   "source": [
    "## Import libraries"
   ]
  },
  {
   "cell_type": "code",
   "execution_count": 2,
   "id": "05db8985",
   "metadata": {},
   "outputs": [],
   "source": [
    "import pandas as pd\n",
    "import numpy as np\n",
    "import matplotlib.pyplot as plt\n",
    "import seaborn as sns\n",
    "%matplotlib inline \n",
    "#this is juypter notebook specific call"
   ]
  },
  {
   "cell_type": "markdown",
   "id": "325e39a6",
   "metadata": {},
   "source": [
    "## Get the data"
   ]
  },
  {
   "cell_type": "code",
   "execution_count": 3,
   "id": "ae56d92d",
   "metadata": {},
   "outputs": [],
   "source": [
    "df = pd.read_csv('College_Data',index_col=0)"
   ]
  },
  {
   "cell_type": "markdown",
   "id": "0c28e744",
   "metadata": {},
   "source": [
    "The first thing that we do after loading in data is to explore it. "
   ]
  },
  {
   "cell_type": "code",
   "execution_count": null,
   "id": "32b57b86",
   "metadata": {},
   "outputs": [],
   "source": []
  }
 ],
 "metadata": {
  "kernelspec": {
   "display_name": "Python 3 (ipykernel)",
   "language": "python",
   "name": "python3"
  },
  "language_info": {
   "codemirror_mode": {
    "name": "ipython",
    "version": 3
   },
   "file_extension": ".py",
   "mimetype": "text/x-python",
   "name": "python",
   "nbconvert_exporter": "python",
   "pygments_lexer": "ipython3",
   "version": "3.8.15"
  }
 },
 "nbformat": 4,
 "nbformat_minor": 5
}
