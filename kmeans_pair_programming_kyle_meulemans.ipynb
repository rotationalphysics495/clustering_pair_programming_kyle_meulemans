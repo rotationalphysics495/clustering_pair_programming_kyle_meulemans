{
 "cells": [
  {
   "cell_type": "markdown",
   "id": "000b561a",
   "metadata": {},
   "source": [
    "# KMeans & KNN Clustering"
   ]
  },
  {
   "cell_type": "markdown",
   "id": "501e93a1",
   "metadata": {},
   "source": [
    " The purpose of this document is to outline how to use the kmeans and KNN algorithm as well as dive into some basic exploratory data analysis (EDA). "
   ]
  },
  {
   "cell_type": "markdown",
   "id": "cf5c9ba6",
   "metadata": {},
   "source": [
    "## Data Dictionary"
   ]
  },
  {
   "cell_type": "markdown",
   "id": "5d6d287b",
   "metadata": {},
   "source": [
    "* Private: A factor with values of No and Yes indicating private or public university\n",
    "* Apps: Number of applications received\n",
    "* Accept: The number of applications accepted\n",
    "* Enroll: The number of students enrolled\n",
    "* Top10perc: Pct of new students from the top 10% of HS class\n",
    "* Top25perc: Pct of new students from the top 25% of HS class\n",
    "* F.Undergrad: Number of fulltime undergraduate students\n",
    "* P.Undergrad: Number of parttime undergraduate students\n",
    "* Outstate: Out-of-state tuition\n",
    "* Room.Board: Room and board costs\n",
    "* Books: Estimated book costs\n",
    "* Personal: Estimated personal spending amount\n",
    "* PhD: Pct of faculty with PhD's\n",
    "* Terminal: Pct of faculty with terminal degree\n",
    "* S.F.Ratio: Student to faculty ratio\n",
    "* perc.alumni: Pct alumni who donate\n",
    "* Expend: Instructional expenditure per student\n",
    "* Grad.Rate: Graduation rate"
   ]
  },
  {
   "cell_type": "markdown",
   "id": "1599b99b",
   "metadata": {},
   "source": [
    "## Import libraries"
   ]
  },
  {
   "cell_type": "code",
   "execution_count": 1,
   "id": "05db8985",
   "metadata": {},
   "outputs": [],
   "source": [
    "import pandas as pd\n",
    "import numpy as np\n",
    "import matplotlib.pyplot as plt\n",
    "import seaborn as sns\n",
    "%matplotlib inline \n",
    "#this is juypter notebook specific call"
   ]
  },
  {
   "cell_type": "markdown",
   "id": "325e39a6",
   "metadata": {},
   "source": [
    "## Get the data"
   ]
  },
  {
   "cell_type": "code",
   "execution_count": 7,
   "id": "ae56d92d",
   "metadata": {},
   "outputs": [],
   "source": [
    "df = pd.read_csv('College_Data',index_col=0)"
   ]
  },
  {
   "cell_type": "markdown",
   "id": "deead46a",
   "metadata": {},
   "source": [
    "The first thing that we do after loading in data is to get summary stats, and information about the data. "
   ]
  },
  {
   "cell_type": "code",
   "execution_count": null,
   "id": "0e20475a",
   "metadata": {},
   "outputs": [],
   "source": [
    "df.info()"
   ]
  },
  {
   "cell_type": "code",
   "execution_count": 12,
   "id": "27659775",
   "metadata": {
    "scrolled": false
   },
   "outputs": [
    {
     "data": {
      "text/html": [
       "<div>\n",
       "<style scoped>\n",
       "    .dataframe tbody tr th:only-of-type {\n",
       "        vertical-align: middle;\n",
       "    }\n",
       "\n",
       "    .dataframe tbody tr th {\n",
       "        vertical-align: top;\n",
       "    }\n",
       "\n",
       "    .dataframe thead th {\n",
       "        text-align: right;\n",
       "    }\n",
       "</style>\n",
       "<table border=\"1\" class=\"dataframe\">\n",
       "  <thead>\n",
       "    <tr style=\"text-align: right;\">\n",
       "      <th></th>\n",
       "      <th>Private</th>\n",
       "      <th>Apps</th>\n",
       "      <th>Accept</th>\n",
       "      <th>Enroll</th>\n",
       "      <th>Top10perc</th>\n",
       "      <th>Top25perc</th>\n",
       "      <th>F.Undergrad</th>\n",
       "      <th>P.Undergrad</th>\n",
       "      <th>Outstate</th>\n",
       "      <th>Room.Board</th>\n",
       "      <th>Books</th>\n",
       "      <th>Personal</th>\n",
       "      <th>PhD</th>\n",
       "      <th>Terminal</th>\n",
       "      <th>S.F.Ratio</th>\n",
       "      <th>perc.alumni</th>\n",
       "      <th>Expend</th>\n",
       "      <th>Grad.Rate</th>\n",
       "    </tr>\n",
       "  </thead>\n",
       "  <tbody>\n",
       "    <tr>\n",
       "      <th>Abilene Christian University</th>\n",
       "      <td>Yes</td>\n",
       "      <td>1660</td>\n",
       "      <td>1232</td>\n",
       "      <td>721</td>\n",
       "      <td>23</td>\n",
       "      <td>52</td>\n",
       "      <td>2885</td>\n",
       "      <td>537</td>\n",
       "      <td>7440</td>\n",
       "      <td>3300</td>\n",
       "      <td>450</td>\n",
       "      <td>2200</td>\n",
       "      <td>70</td>\n",
       "      <td>78</td>\n",
       "      <td>18.1</td>\n",
       "      <td>12</td>\n",
       "      <td>7041</td>\n",
       "      <td>60</td>\n",
       "    </tr>\n",
       "    <tr>\n",
       "      <th>Adelphi University</th>\n",
       "      <td>Yes</td>\n",
       "      <td>2186</td>\n",
       "      <td>1924</td>\n",
       "      <td>512</td>\n",
       "      <td>16</td>\n",
       "      <td>29</td>\n",
       "      <td>2683</td>\n",
       "      <td>1227</td>\n",
       "      <td>12280</td>\n",
       "      <td>6450</td>\n",
       "      <td>750</td>\n",
       "      <td>1500</td>\n",
       "      <td>29</td>\n",
       "      <td>30</td>\n",
       "      <td>12.2</td>\n",
       "      <td>16</td>\n",
       "      <td>10527</td>\n",
       "      <td>56</td>\n",
       "    </tr>\n",
       "    <tr>\n",
       "      <th>Adrian College</th>\n",
       "      <td>Yes</td>\n",
       "      <td>1428</td>\n",
       "      <td>1097</td>\n",
       "      <td>336</td>\n",
       "      <td>22</td>\n",
       "      <td>50</td>\n",
       "      <td>1036</td>\n",
       "      <td>99</td>\n",
       "      <td>11250</td>\n",
       "      <td>3750</td>\n",
       "      <td>400</td>\n",
       "      <td>1165</td>\n",
       "      <td>53</td>\n",
       "      <td>66</td>\n",
       "      <td>12.9</td>\n",
       "      <td>30</td>\n",
       "      <td>8735</td>\n",
       "      <td>54</td>\n",
       "    </tr>\n",
       "    <tr>\n",
       "      <th>Agnes Scott College</th>\n",
       "      <td>Yes</td>\n",
       "      <td>417</td>\n",
       "      <td>349</td>\n",
       "      <td>137</td>\n",
       "      <td>60</td>\n",
       "      <td>89</td>\n",
       "      <td>510</td>\n",
       "      <td>63</td>\n",
       "      <td>12960</td>\n",
       "      <td>5450</td>\n",
       "      <td>450</td>\n",
       "      <td>875</td>\n",
       "      <td>92</td>\n",
       "      <td>97</td>\n",
       "      <td>7.7</td>\n",
       "      <td>37</td>\n",
       "      <td>19016</td>\n",
       "      <td>59</td>\n",
       "    </tr>\n",
       "    <tr>\n",
       "      <th>Alaska Pacific University</th>\n",
       "      <td>Yes</td>\n",
       "      <td>193</td>\n",
       "      <td>146</td>\n",
       "      <td>55</td>\n",
       "      <td>16</td>\n",
       "      <td>44</td>\n",
       "      <td>249</td>\n",
       "      <td>869</td>\n",
       "      <td>7560</td>\n",
       "      <td>4120</td>\n",
       "      <td>800</td>\n",
       "      <td>1500</td>\n",
       "      <td>76</td>\n",
       "      <td>72</td>\n",
       "      <td>11.9</td>\n",
       "      <td>2</td>\n",
       "      <td>10922</td>\n",
       "      <td>15</td>\n",
       "    </tr>\n",
       "  </tbody>\n",
       "</table>\n",
       "</div>"
      ],
      "text/plain": [
       "                             Private  Apps  Accept  Enroll  Top10perc  \\\n",
       "Abilene Christian University     Yes  1660    1232     721         23   \n",
       "Adelphi University               Yes  2186    1924     512         16   \n",
       "Adrian College                   Yes  1428    1097     336         22   \n",
       "Agnes Scott College              Yes   417     349     137         60   \n",
       "Alaska Pacific University        Yes   193     146      55         16   \n",
       "\n",
       "                              Top25perc  F.Undergrad  P.Undergrad  Outstate  \\\n",
       "Abilene Christian University         52         2885          537      7440   \n",
       "Adelphi University                   29         2683         1227     12280   \n",
       "Adrian College                       50         1036           99     11250   \n",
       "Agnes Scott College                  89          510           63     12960   \n",
       "Alaska Pacific University            44          249          869      7560   \n",
       "\n",
       "                              Room.Board  Books  Personal  PhD  Terminal  \\\n",
       "Abilene Christian University        3300    450      2200   70        78   \n",
       "Adelphi University                  6450    750      1500   29        30   \n",
       "Adrian College                      3750    400      1165   53        66   \n",
       "Agnes Scott College                 5450    450       875   92        97   \n",
       "Alaska Pacific University           4120    800      1500   76        72   \n",
       "\n",
       "                              S.F.Ratio  perc.alumni  Expend  Grad.Rate  \n",
       "Abilene Christian University       18.1           12    7041         60  \n",
       "Adelphi University                 12.2           16   10527         56  \n",
       "Adrian College                     12.9           30    8735         54  \n",
       "Agnes Scott College                 7.7           37   19016         59  \n",
       "Alaska Pacific University          11.9            2   10922         15  "
      ]
     },
     "execution_count": 12,
     "metadata": {},
     "output_type": "execute_result"
    }
   ],
   "source": [
    "df.head()"
   ]
  },
  {
   "cell_type": "code",
   "execution_count": null,
   "id": "aea04180",
   "metadata": {},
   "outputs": [],
   "source": [
    "df.describe()"
   ]
  },
  {
   "cell_type": "markdown",
   "id": "f9783a7e",
   "metadata": {},
   "source": [
    "## EDA\n",
    "\n",
    "It's time to actually look at the data. Histograms and scatterplots are commonly used to gain information about the data. "
   ]
  },
  {
   "cell_type": "code",
   "execution_count": null,
   "id": "0241b919",
   "metadata": {},
   "outputs": [],
   "source": [
    "sns.lmplot(x='Room.Board',y='Grad.Rate',data=df,hue='Private',fit_reg=False,palette='coolwarm')"
   ]
  },
  {
   "cell_type": "code",
   "execution_count": 27,
   "id": "526bab09",
   "metadata": {},
   "outputs": [
    {
     "data": {
      "text/plain": [
       "<seaborn.axisgrid.FacetGrid at 0x267a07246a0>"
      ]
     },
     "execution_count": 27,
     "metadata": {},
     "output_type": "execute_result"
    },
    {
     "data": {
      "image/png": "[encoded data removed]",
      "text/plain": [
       "<Figure size 572.625x500 with 1 Axes>"
      ]
     },
     "metadata": {},
     "output_type": "display_data"
    }
   ],
   "source": [
    "sns.set_style('whitegrid')\n",
    "sns.lmplot(x='Outstate',y='F.Undergrad',data=df,hue='Private',palette='coolwarm',fit_reg=False)"
   ]
  },
  {
   "cell_type": "code",
   "execution_count": null,
   "id": "8a53ada6",
   "metadata": {},
   "outputs": [],
   "source": [
    "sns.set_style('darkgrid')\n",
    "g = sns.FacetGrid(df,hue='Private',palette='coolwarm')\n",
    "g = g.map(plt.hist,'Outstate',bins=20)"
   ]
  },
  {
   "cell_type": "code",
   "execution_count": 8,
   "id": "07c50657",
   "metadata": {},
   "outputs": [],
   "source": [
    "df = df[df['Grad.Rate'] <= 100]"
   ]
  },
  {
   "cell_type": "code",
   "execution_count": 5,
   "id": "325d7436",
   "metadata": {},
   "outputs": [],
   "source": []
  },
  {
   "cell_type": "code",
   "execution_count": 9,
   "id": "d388f4e3",
   "metadata": {},
   "outputs": [
    {
     "name": "stdout",
     "output_type": "stream",
     "text": [
      "<class 'pandas.core.frame.DataFrame'>\n",
      "Index: 776 entries, Abilene Christian University to York College of Pennsylvania\n",
      "Data columns (total 18 columns):\n",
      " #   Column       Non-Null Count  Dtype  \n",
      "---  ------       --------------  -----  \n",
      " 0   Private      776 non-null    object \n",
      " 1   Apps         776 non-null    int64  \n",
      " 2   Accept       776 non-null    int64  \n",
      " 3   Enroll       776 non-null    int64  \n",
      " 4   Top10perc    776 non-null    int64  \n",
      " 5   Top25perc    776 non-null    int64  \n",
      " 6   F.Undergrad  776 non-null    int64  \n",
      " 7   P.Undergrad  776 non-null    int64  \n",
      " 8   Outstate     776 non-null    int64  \n",
      " 9   Room.Board   776 non-null    int64  \n",
      " 10  Books        776 non-null    int64  \n",
      " 11  Personal     776 non-null    int64  \n",
      " 12  PhD          776 non-null    int64  \n",
      " 13  Terminal     776 non-null    int64  \n",
      " 14  S.F.Ratio    776 non-null    float64\n",
      " 15  perc.alumni  776 non-null    int64  \n",
      " 16  Expend       776 non-null    int64  \n",
      " 17  Grad.Rate    776 non-null    int64  \n",
      "dtypes: float64(1), int64(16), object(1)\n",
      "memory usage: 115.2+ KB\n"
     ]
    }
   ],
   "source": [
    "df.info()"
   ]
  },
  {
   "cell_type": "markdown",
   "id": "d2985963",
   "metadata": {},
   "source": [
    "## Kmeans Cluster"
   ]
  },
  {
   "cell_type": "code",
   "execution_count": 10,
   "id": "784ecd4f",
   "metadata": {},
   "outputs": [],
   "source": [
    "from sklearn.cluster import KMeans\n",
    "from sklearn.preprocessing import StandardScaler\n",
    "from sklearn.metrics import confusion_matrix,classification_report"
   ]
  },
  {
   "cell_type": "markdown",
   "id": "9a67e348",
   "metadata": {},
   "source": [
    "## How did Kmeans perform? \n",
    "\n",
    "There are many ways to gauge the performance of a model, but here we will use a confusion matrix and classification report."
   ]
  },
  {
   "cell_type": "code",
   "execution_count": 11,
   "id": "e66fcb19",
   "metadata": {},
   "outputs": [],
   "source": [
    "scaler = StandardScaler()\n",
    "scaler.fit(df.drop('Private',axis=1))\n",
    "scaled_features = scaler.transform(df.drop('Private',axis=1))"
   ]
  },
  {
   "cell_type": "code",
   "execution_count": 15,
   "id": "53bf9c9e",
   "metadata": {},
   "outputs": [
    {
     "data": {
      "text/html": [
       "<div>\n",
       "<style scoped>\n",
       "    .dataframe tbody tr th:only-of-type {\n",
       "        vertical-align: middle;\n",
       "    }\n",
       "\n",
       "    .dataframe tbody tr th {\n",
       "        vertical-align: top;\n",
       "    }\n",
       "\n",
       "    .dataframe thead th {\n",
       "        text-align: right;\n",
       "    }\n",
       "</style>\n",
       "<table border=\"1\" class=\"dataframe\">\n",
       "  <thead>\n",
       "    <tr style=\"text-align: right;\">\n",
       "      <th></th>\n",
       "      <th>Apps</th>\n",
       "      <th>Accept</th>\n",
       "      <th>Enroll</th>\n",
       "      <th>Top10perc</th>\n",
       "      <th>Top25perc</th>\n",
       "      <th>F.Undergrad</th>\n",
       "      <th>P.Undergrad</th>\n",
       "      <th>Outstate</th>\n",
       "      <th>Room.Board</th>\n",
       "      <th>Books</th>\n",
       "      <th>Personal</th>\n",
       "      <th>PhD</th>\n",
       "      <th>Terminal</th>\n",
       "      <th>S.F.Ratio</th>\n",
       "      <th>perc.alumni</th>\n",
       "      <th>Expend</th>\n",
       "      <th>Grad.Rate</th>\n",
       "    </tr>\n",
       "  </thead>\n",
       "  <tbody>\n",
       "    <tr>\n",
       "      <th>0</th>\n",
       "      <td>-0.346388</td>\n",
       "      <td>-0.320324</td>\n",
       "      <td>-0.063822</td>\n",
       "      <td>-0.259958</td>\n",
       "      <td>-0.193195</td>\n",
       "      <td>-0.168756</td>\n",
       "      <td>-0.209828</td>\n",
       "      <td>-0.746247</td>\n",
       "      <td>-0.963837</td>\n",
       "      <td>-0.601566</td>\n",
       "      <td>1.268890</td>\n",
       "      <td>-0.167968</td>\n",
       "      <td>-0.118896</td>\n",
       "      <td>1.013194</td>\n",
       "      <td>-0.867329</td>\n",
       "      <td>-0.502117</td>\n",
       "      <td>-0.316019</td>\n",
       "    </tr>\n",
       "    <tr>\n",
       "      <th>1</th>\n",
       "      <td>-0.210473</td>\n",
       "      <td>-0.037943</td>\n",
       "      <td>-0.288763</td>\n",
       "      <td>-0.657059</td>\n",
       "      <td>-1.355358</td>\n",
       "      <td>-0.210410</td>\n",
       "      <td>0.243484</td>\n",
       "      <td>0.456884</td>\n",
       "      <td>1.908784</td>\n",
       "      <td>1.215566</td>\n",
       "      <td>0.233996</td>\n",
       "      <td>-2.694709</td>\n",
       "      <td>-3.389672</td>\n",
       "      <td>-0.477329</td>\n",
       "      <td>-0.544524</td>\n",
       "      <td>0.165534</td>\n",
       "      <td>-0.550297</td>\n",
       "    </tr>\n",
       "    <tr>\n",
       "      <th>2</th>\n",
       "      <td>-0.406335</td>\n",
       "      <td>-0.375413</td>\n",
       "      <td>-0.478187</td>\n",
       "      <td>-0.316686</td>\n",
       "      <td>-0.294252</td>\n",
       "      <td>-0.550035</td>\n",
       "      <td>-0.497582</td>\n",
       "      <td>0.200846</td>\n",
       "      <td>-0.553463</td>\n",
       "      <td>-0.904421</td>\n",
       "      <td>-0.261275</td>\n",
       "      <td>-1.215641</td>\n",
       "      <td>-0.936590</td>\n",
       "      <td>-0.300488</td>\n",
       "      <td>0.585291</td>\n",
       "      <td>-0.177677</td>\n",
       "      <td>-0.667436</td>\n",
       "    </tr>\n",
       "    <tr>\n",
       "      <th>3</th>\n",
       "      <td>-0.667570</td>\n",
       "      <td>-0.680646</td>\n",
       "      <td>-0.692366</td>\n",
       "      <td>1.839004</td>\n",
       "      <td>1.676372</td>\n",
       "      <td>-0.658501</td>\n",
       "      <td>-0.521233</td>\n",
       "      <td>0.625919</td>\n",
       "      <td>0.996841</td>\n",
       "      <td>-0.601566</td>\n",
       "      <td>-0.690016</td>\n",
       "      <td>1.187845</td>\n",
       "      <td>1.175786</td>\n",
       "      <td>-1.614169</td>\n",
       "      <td>1.150198</td>\n",
       "      <td>1.791376</td>\n",
       "      <td>-0.374588</td>\n",
       "    </tr>\n",
       "    <tr>\n",
       "      <th>4</th>\n",
       "      <td>-0.725449</td>\n",
       "      <td>-0.763483</td>\n",
       "      <td>-0.780620</td>\n",
       "      <td>-0.657059</td>\n",
       "      <td>-0.597425</td>\n",
       "      <td>-0.712322</td>\n",
       "      <td>0.008288</td>\n",
       "      <td>-0.716417</td>\n",
       "      <td>-0.216044</td>\n",
       "      <td>1.518421</td>\n",
       "      <td>0.233996</td>\n",
       "      <td>0.201799</td>\n",
       "      <td>-0.527743</td>\n",
       "      <td>-0.553119</td>\n",
       "      <td>-1.674339</td>\n",
       "      <td>0.241185</td>\n",
       "      <td>-2.951646</td>\n",
       "    </tr>\n",
       "  </tbody>\n",
       "</table>\n",
       "</div>"
      ],
      "text/plain": [
       "       Apps    Accept    Enroll  Top10perc  Top25perc  F.Undergrad  \\\n",
       "0 -0.346388 -0.320324 -0.063822  -0.259958  -0.193195    -0.168756   \n",
       "1 -0.210473 -0.037943 -0.288763  -0.657059  -1.355358    -0.210410   \n",
       "2 -0.406335 -0.375413 -0.478187  -0.316686  -0.294252    -0.550035   \n",
       "3 -0.667570 -0.680646 -0.692366   1.839004   1.676372    -0.658501   \n",
       "4 -0.725449 -0.763483 -0.780620  -0.657059  -0.597425    -0.712322   \n",
       "\n",
       "   P.Undergrad  Outstate  Room.Board     Books  Personal       PhD  Terminal  \\\n",
       "0    -0.209828 -0.746247   -0.963837 -0.601566  1.268890 -0.167968 -0.118896   \n",
       "1     0.243484  0.456884    1.908784  1.215566  0.233996 -2.694709 -3.389672   \n",
       "2    -0.497582  0.200846   -0.553463 -0.904421 -0.261275 -1.215641 -0.936590   \n",
       "3    -0.521233  0.625919    0.996841 -0.601566 -0.690016  1.187845  1.175786   \n",
       "4     0.008288 -0.716417   -0.216044  1.518421  0.233996  0.201799 -0.527743   \n",
       "\n",
       "   S.F.Ratio  perc.alumni    Expend  Grad.Rate  \n",
       "0   1.013194    -0.867329 -0.502117  -0.316019  \n",
       "1  -0.477329    -0.544524  0.165534  -0.550297  \n",
       "2  -0.300488     0.585291 -0.177677  -0.667436  \n",
       "3  -1.614169     1.150198  1.791376  -0.374588  \n",
       "4  -0.553119    -1.674339  0.241185  -2.951646  "
      ]
     },
     "execution_count": 15,
     "metadata": {},
     "output_type": "execute_result"
    }
   ],
   "source": [
    "df_feat = pd.DataFrame(scaled_features,columns = df.columns[1:])\n",
    "df_feat.head()"
   ]
  },
  {
   "cell_type": "code",
   "execution_count": 16,
   "id": "8741c030",
   "metadata": {},
   "outputs": [
    {
     "name": "stderr",
     "output_type": "stream",
     "text": [
      "C:\\Users\\caleb\\anaconda3\\lib\\site-packages\\sklearn\\cluster\\_kmeans.py:870: FutureWarning: The default value of `n_init` will change from 10 to 'auto' in 1.4. Set the value of `n_init` explicitly to suppress the warning\n",
      "  warnings.warn(\n",
      "C:\\Users\\caleb\\anaconda3\\lib\\site-packages\\sklearn\\cluster\\_kmeans.py:1382: UserWarning: KMeans is known to have a memory leak on Windows with MKL, when there are less chunks than available threads. You can avoid it by setting the environment variable OMP_NUM_THREADS=4.\n",
      "  warnings.warn(\n"
     ]
    },
    {
     "data": {
      "text/plain": [
       "array([[-0.32726134, -0.30624783, -0.25159283, -0.49938796, -0.50293112,\n",
       "        -0.22097878, -0.03812057, -0.45839523, -0.3737496 , -0.12214279,\n",
       "         0.04983076, -0.49199033, -0.4795522 ,  0.23613188, -0.30741284,\n",
       "        -0.42499097, -0.36480651],\n",
       "       [ 0.54543557,  0.51041306,  0.41932138,  0.83231326,  0.83821853,\n",
       "         0.36829797,  0.06353429,  0.76399205,  0.622916  ,  0.20357131,\n",
       "        -0.08305126,  0.81998388,  0.79925367, -0.39355313,  0.51235473,\n",
       "         0.70831829,  0.60801084]])"
      ]
     },
     "execution_count": 16,
     "metadata": {},
     "output_type": "execute_result"
    }
   ],
   "source": [
    "kmeans = KMeans(n_clusters=2)\n",
    "kmeans.fit(df_feat)\n",
    "kmeans.cluster_centers_"
   ]
  },
  {
   "cell_type": "code",
   "execution_count": 18,
   "id": "91dc1e32",
   "metadata": {},
   "outputs": [],
   "source": [
    "def converter(cluster):\n",
    "    if cluster=='Yes':\n",
    "        return 1\n",
    "    else:\n",
    "        return 0\n",
    "    \n",
    "df['Cluster'] = df['Private'].apply(converter)"
   ]
  },
  {
   "cell_type": "code",
   "execution_count": 19,
   "id": "f5300900",
   "metadata": {},
   "outputs": [
    {
     "name": "stdout",
     "output_type": "stream",
     "text": [
      "              precision    recall  f1-score   support\n",
      "\n",
      "           0       0.30      0.69      0.42       212\n",
      "           1       0.77      0.40      0.53       564\n",
      "\n",
      "    accuracy                           0.48       776\n",
      "   macro avg       0.54      0.54      0.47       776\n",
      "weighted avg       0.64      0.48      0.50       776\n",
      "\n"
     ]
    }
   ],
   "source": [
    "print(classification_report(df['Cluster'],kmeans.labels_))"
   ]
  },
  {
   "cell_type": "code",
   "execution_count": 20,
   "id": "151a343a",
   "metadata": {},
   "outputs": [
    {
     "data": {
      "text/plain": [
       "array([[146,  66],\n",
       "       [339, 225]], dtype=int64)"
      ]
     },
     "execution_count": 20,
     "metadata": {},
     "output_type": "execute_result"
    }
   ],
   "source": [
    "confusion_matrix(df['Cluster'],kmeans.labels_)"
   ]
  },
  {
   "cell_type": "markdown",
   "id": "b7e70827",
   "metadata": {},
   "source": [
    "## KNN Cluster\n",
    "\n",
    "Now we will cluster the data using labels and compare a supervised learning technique with against the unsupervised kmeans. To see which performs better!"
   ]
  },
  {
   "cell_type": "code",
   "execution_count": 22,
   "id": "28b0a631",
   "metadata": {},
   "outputs": [],
   "source": [
    "from sklearn.model_selection import train_test_split\n",
    "from sklearn.neighbors import KNeighborsClassifier"
   ]
  },
  {
   "cell_type": "markdown",
   "id": "a857789a",
   "metadata": {},
   "source": [
    "## How did KNN perform?"
   ]
  },
  {
   "cell_type": "code",
   "execution_count": 23,
   "id": "dd690585",
   "metadata": {},
   "outputs": [
    {
     "name": "stdout",
     "output_type": "stream",
     "text": [
      "[[ 62   7]\n",
      " [ 13 151]]\n",
      "              precision    recall  f1-score   support\n",
      "\n",
      "          No       0.83      0.90      0.86        69\n",
      "         Yes       0.96      0.92      0.94       164\n",
      "\n",
      "    accuracy                           0.91       233\n",
      "   macro avg       0.89      0.91      0.90       233\n",
      "weighted avg       0.92      0.91      0.92       233\n",
      "\n"
     ]
    }
   ],
   "source": [
    "X_train, X_test, y_train, y_test = train_test_split(scaled_features,df['Private'],test_size=.30)\n",
    "knn = KNeighborsClassifier(n_neighbors=2)\n",
    "knn.fit(X_train,y_train)\n",
    "pred = knn.predict(X_test)\n",
    "print(confusion_matrix(y_test,pred))\n",
    "print(classification_report(y_test,pred))"
   ]
  },
  {
   "cell_type": "markdown",
   "id": "4f3caec4",
   "metadata": {},
   "source": [
    "## Now the cherry on top\n",
    "\n",
    "It's clear from the numbers which one does better, however visuals often tell a more compelling story. \n",
    "\n",
    "Put the classification for each algorithm in dataset i.e. labels into a column in df.\n",
    "Create scatterplot showing the classification of kmeans vs knn (use any feature).\n"
   ]
  },
  {
   "cell_type": "code",
   "execution_count": 28,
   "id": "a5a201de",
   "metadata": {},
   "outputs": [
    {
     "data": {
      "text/plain": [
       "array([0, 0, 0, 1, 0, 0, 0, 1, 1, 0, 1, 1, 0, 1, 0, 0, 1, 0, 0, 0, 1, 0,\n",
       "       0, 1, 0, 0, 1, 1, 0, 1, 0, 1, 0, 0, 0, 0, 1, 1, 0, 1, 1, 0, 0, 0,\n",
       "       1, 0, 0, 0, 1, 0, 0, 0, 0, 0, 1, 0, 0, 0, 0, 1, 1, 0, 0, 1, 1, 0,\n",
       "       0, 0, 0, 1, 1, 1, 1, 0, 1, 0, 0, 0, 1, 0, 0, 0, 0, 0, 0, 0, 1, 1,\n",
       "       0, 0, 0, 1, 0, 0, 1, 0, 0, 0, 0, 0, 0, 0, 0, 0, 0, 1, 0, 1, 0, 0,\n",
       "       0, 0, 0, 1, 1, 0, 1, 1, 0, 0, 0, 1, 1, 0, 0, 0, 0, 0, 0, 0, 0, 0,\n",
       "       0, 0, 0, 0, 1, 1, 1, 1, 1, 0, 0, 1, 0, 0, 0, 0, 1, 0, 1, 1, 0, 0,\n",
       "       0, 0, 0, 1, 1, 0, 0, 1, 1, 1, 0, 0, 0, 0, 0, 0, 1, 1, 0, 1, 1, 0,\n",
       "       0, 0, 0, 0, 0, 0, 0, 1, 0, 0, 0, 0, 0, 1, 1, 0, 0, 0, 0, 1, 0, 0,\n",
       "       0, 1, 1, 0, 1, 0, 1, 0, 0, 0, 0, 0, 0, 0, 1, 0, 0, 0, 0, 0, 1, 0,\n",
       "       1, 1, 0, 0, 1, 0, 1, 0, 0, 1, 0, 0, 0, 0, 0, 0, 1, 0, 0, 1, 0, 1,\n",
       "       1, 1, 0, 0, 0, 0, 1, 1, 1, 0, 1, 1, 1, 1, 1, 1, 1, 1, 0, 0, 0, 0,\n",
       "       0, 0, 0, 1, 0, 1, 0, 0, 0, 1, 0, 0, 1, 1, 1, 0, 0, 0, 1, 1, 0, 0,\n",
       "       1, 0, 0, 0, 0, 1, 0, 0, 0, 1, 0, 1, 1, 0, 1, 0, 0, 0, 0, 1, 1, 1,\n",
       "       1, 0, 0, 0, 1, 0, 0, 0, 0, 1, 0, 0, 0, 0, 0, 0, 0, 1, 1, 1, 1, 1,\n",
       "       0, 0, 0, 1, 0, 0, 0, 1, 1, 0, 0, 1, 0, 1, 0, 1, 1, 0, 0, 0, 0, 0,\n",
       "       0, 1, 0, 0, 0, 0, 1, 0, 0, 0, 0, 0, 1, 1, 1, 0, 0, 0, 0, 1, 0, 0,\n",
       "       0, 0, 0, 0, 1, 0, 0, 0, 0, 0, 0, 1, 0, 0, 0, 1, 0, 0, 0, 0, 0, 0,\n",
       "       0, 0, 0, 1, 0, 0, 0, 1, 1, 0, 1, 0, 1, 0, 0, 1, 0, 1, 0, 0, 0, 1,\n",
       "       0, 0, 0, 0, 0, 1, 0, 0, 0, 1, 1, 1, 1, 1, 1, 0, 0, 0, 0, 0, 0, 1,\n",
       "       1, 0, 0, 0, 1, 1, 0, 0, 0, 0, 0, 0, 1, 0, 0, 1, 0, 1, 1, 1, 1, 0,\n",
       "       0, 1, 0, 0, 0, 1, 1, 1, 1, 1, 1, 1, 0, 1, 0, 0, 0, 1, 0, 0, 1, 0,\n",
       "       1, 0, 0, 0, 0, 0, 0, 0, 0, 0, 1, 0, 1, 1, 0, 0, 1, 1, 0, 0, 0, 0,\n",
       "       0, 0, 0, 1, 1, 1, 0, 0, 1, 1, 1, 1, 0, 0, 0, 1, 0, 1, 0, 0, 1, 1,\n",
       "       0, 0, 0, 0, 0, 1, 0, 0, 0, 0, 0, 1, 0, 1, 0, 0, 0, 0, 1, 0, 1, 1,\n",
       "       0, 0, 0, 0, 0, 1, 1, 0, 1, 1, 1, 1, 1, 0, 0, 0, 0, 0, 1, 0, 0, 0,\n",
       "       0, 1, 1, 1, 0, 0, 0, 0, 1, 0, 1, 0, 0, 0, 0, 0, 0, 1, 1, 0, 1, 1,\n",
       "       0, 1, 1, 0, 0, 0, 1, 0, 0, 0, 1, 1, 0, 0, 1, 1, 1, 1, 1, 1, 1, 0,\n",
       "       0, 0, 1, 1, 0, 0, 1, 1, 0, 1, 0, 0, 0, 0, 0, 0, 1, 1, 0, 1, 1, 0,\n",
       "       0, 1, 0, 1, 1, 0, 0, 0, 1, 0, 1, 0, 1, 0, 0, 0, 0, 0, 0, 0, 0, 1,\n",
       "       1, 1, 1, 1, 1, 1, 1, 1, 1, 1, 1, 0, 1, 0, 1, 1, 1, 0, 0, 0, 0, 0,\n",
       "       1, 0, 1, 0, 0, 1, 1, 1, 1, 1, 1, 1, 0, 0, 0, 0, 0, 1, 0, 0, 0, 1,\n",
       "       0, 0, 1, 1, 1, 1, 0, 0, 1, 0, 0, 0, 0, 1, 0, 1, 0, 0, 0, 1, 1, 1,\n",
       "       1, 1, 0, 0, 0, 0, 1, 1, 0, 0, 1, 0, 0, 0, 0, 1, 0, 0, 0, 0, 0, 0,\n",
       "       0, 0, 1, 1, 1, 0, 1, 1, 1, 1, 0, 1, 0, 0, 1, 0, 0, 0, 0, 0, 1, 1,\n",
       "       1, 0, 0, 0, 1, 0])"
      ]
     },
     "execution_count": 28,
     "metadata": {},
     "output_type": "execute_result"
    }
   ],
   "source": [
    "kmeans.labels_"
   ]
  },
  {
   "cell_type": "code",
   "execution_count": null,
   "id": "74a85f36",
   "metadata": {},
   "outputs": [],
   "source": []
  }
 ],
 "metadata": {
  "kernelspec": {
   "display_name": "Python 3 (ipykernel)",
   "language": "python",
   "name": "python3"
  },
  "language_info": {
   "codemirror_mode": {
    "name": "ipython",
    "version": 3
   },
   "file_extension": ".py",
   "mimetype": "text/x-python",
   "name": "python",
   "nbconvert_exporter": "python",
   "pygments_lexer": "ipython3",
   "version": "3.8.15"
  }
 },
 "nbformat": 4,
 "nbformat_minor": 5
}
